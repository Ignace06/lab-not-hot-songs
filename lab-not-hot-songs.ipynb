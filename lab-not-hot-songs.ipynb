{
 "cells": [
  {
   "cell_type": "markdown",
   "id": "5570e277-2685-45d7-8854-d81d03a6d879",
   "metadata": {},
   "source": [
    "# Imports"
   ]
  },
  {
   "cell_type": "code",
   "execution_count": 1,
   "id": "345aa3e0-0109-496a-9202-b7307cdee80d",
   "metadata": {},
   "outputs": [],
   "source": [
    "import pandas as pd\n",
    "import numpy as np\n",
    "\n",
    "from time import sleep\n",
    "from random import randint\n",
    "\n",
    "import spotipy\n",
    "from spotipy.oauth2 import SpotifyClientCredentials"
   ]
  },
  {
   "cell_type": "markdown",
   "id": "71cd60dc-5125-4999-aedb-14e0dfb22b16",
   "metadata": {},
   "source": [
    "# Spotify API"
   ]
  },
  {
   "cell_type": "markdown",
   "id": "3daeac44-006e-4377-993a-dcfed37856ba",
   "metadata": {},
   "source": [
    "## Token"
   ]
  },
  {
   "cell_type": "code",
   "execution_count": 5,
   "id": "c5eb88e4-694c-4bb5-ab83-2ccf7b13d6af",
   "metadata": {},
   "outputs": [],
   "source": [
    "sp = spotipy.Spotify(auth_manager=SpotifyClientCredentials(client_id= Client_ID, client_secret= Client_Secret))"
   ]
  },
  {
   "cell_type": "markdown",
   "id": "e87048ae-40d1-4a74-b0ab-00d62d58d5c1",
   "metadata": {},
   "source": [
    "## Not Hot"
   ]
  },
  {
   "cell_type": "markdown",
   "id": "2938ccbe-702e-4fae-a63a-1a53ada8a071",
   "metadata": {},
   "source": [
    "### Request"
   ]
  },
  {
   "cell_type": "markdown",
   "id": "96ac2dff-e2b3-429e-8834-6d56a6e7aa83",
   "metadata": {
    "tags": []
   },
   "source": [
    "#### Function to get the data\n",
    "\n",
    "There seems to be a problem with some items that are not songs and make the function stop, we had to call it several times setting the offset 1 item after the stop."
   ]
  },
  {
   "cell_type": "code",
   "execution_count": 6,
   "id": "d2f06dbc-6942-4f8d-93f1-7c6a7b31efdc",
   "metadata": {},
   "outputs": [],
   "source": [
    "def analyze_playlist(creator, playlist_id, pages=5, start=0):\n",
    "    \n",
    "    playlist_columns = [\"Song\", \"Artist\", \"ID\", \"Link\", \"danceability\", \"energy\", \"key\", \"loudness\", \"mode\", \"speechiness\", \"instrumentalness\", \"liveness\", \"valence\", \"tempo\", \"duration_ms\", \"time_signature\"]\n",
    "    \n",
    "    playlist_df = pd.DataFrame(columns = playlist_columns)\n",
    "    \n",
    "    playlist = sp.user_playlist_tracks(creator, playlist_id, offset=start)\n",
    "    nap = randint(1,2)\n",
    "    for i in range(pages):\n",
    "        print(\"Page\",i+1)\n",
    "        try:\n",
    "            tracks = playlist[\"items\"]\n",
    "            for track in tracks:\n",
    "                playlist_features = {}\n",
    "                playlist_features[\"Song\"] = track[\"track\"][\"name\"]\n",
    "                playlist_features[\"Artist\"] = track[\"track\"][\"album\"][\"artists\"][0][\"name\"]\n",
    "                playlist_features[\"ID\"] = track[\"track\"][\"id\"]\n",
    "                playlist_features[\"Link\"] = track[\"track\"][\"external_urls\"][\"spotify\"]\n",
    "        \n",
    "                audio_features = sp.audio_features(playlist_features[\"ID\"])[0]\n",
    "                for feature in playlist_columns[4:]:\n",
    "                    playlist_features[feature] = audio_features[feature]\n",
    "        \n",
    "                track_df = pd.DataFrame(playlist_features, index = [0])\n",
    "                playlist_df = pd.concat([playlist_df, track_df], ignore_index = True)\n",
    "            playlist = sp.next(playlist)\n",
    "            \n",
    "        except:\n",
    "            continue\n",
    "        \n",
    "        print(\"Sleeping for\",nap,\"seconds\")\n",
    "        sleep(nap)\n",
    "    \n",
    "    playlist_df.columns = [\"Song\", \"Artist\", \"ID\", \"Link\", \"Danceability\", \"Energy\", \"Key\", \"Loudness\", \"Mode\", \"Speechiness\", \"Instrumentalness\", \"Liveness\", \"Valence\", \"Tempo\", \"Duration\", \"Time Signature\"]\n",
    "        \n",
    "    return playlist_df"
   ]
  },
  {
   "cell_type": "code",
   "execution_count": 7,
   "id": "a3143681-da46-41c5-b3cf-8654fd8dd3cd",
   "metadata": {
    "tags": []
   },
   "outputs": [
    {
     "name": "stdout",
     "output_type": "stream",
     "text": [
      "Page 1\n",
      "Sleeping for 1 seconds\n",
      "Page 2\n",
      "Sleeping for 1 seconds\n",
      "Page 3\n",
      "Sleeping for 1 seconds\n",
      "Page 4\n",
      "Sleeping for 1 seconds\n",
      "Page 5\n"
     ]
    },
    {
     "data": {
      "text/plain": [
       "467"
      ]
     },
     "execution_count": 7,
     "metadata": {},
     "output_type": "execute_result"
    }
   ],
   "source": [
    "not_hot_0 = analyze_playlist(\"acclaimed music\", \"1G8IpkZKobrIlXcVPoSIuf\", 5)\n",
    "not_hot_0[\"ID\"].nunique()"
   ]
  },
  {
   "cell_type": "code",
   "execution_count": 8,
   "id": "2cc77339-3ac6-4811-8d7f-8a7f273cecc9",
   "metadata": {},
   "outputs": [
    {
     "data": {
      "text/plain": [
       "468"
      ]
     },
     "execution_count": 8,
     "metadata": {},
     "output_type": "execute_result"
    }
   ],
   "source": [
    "skip1 = not_hot_0[\"ID\"].nunique() + 1\n",
    "skip1"
   ]
  },
  {
   "cell_type": "code",
   "execution_count": 9,
   "id": "5dbb513d-cb26-4c64-9f45-877640015772",
   "metadata": {},
   "outputs": [
    {
     "name": "stdout",
     "output_type": "stream",
     "text": [
      "Page 1\n",
      "Sleeping for 1 seconds\n",
      "Page 2\n",
      "Sleeping for 1 seconds\n",
      "Page 3\n",
      "Sleeping for 1 seconds\n",
      "Page 4\n",
      "Sleeping for 1 seconds\n",
      "Page 5\n",
      "Sleeping for 1 seconds\n",
      "Page 6\n",
      "Sleeping for 1 seconds\n",
      "Page 7\n",
      "Sleeping for 1 seconds\n",
      "Page 8\n",
      "Sleeping for 1 seconds\n",
      "Page 9\n",
      "Sleeping for 1 seconds\n",
      "Page 10\n",
      "Sleeping for 1 seconds\n"
     ]
    },
    {
     "data": {
      "text/plain": [
       "1000"
      ]
     },
     "execution_count": 9,
     "metadata": {},
     "output_type": "execute_result"
    }
   ],
   "source": [
    "not_hot_1 = analyze_playlist(\"acclaimed music\", \"1G8IpkZKobrIlXcVPoSIuf\", 10, skip1)\n",
    "not_hot_1[\"ID\"].nunique()"
   ]
  },
  {
   "cell_type": "code",
   "execution_count": 10,
   "id": "d2ecea45-6861-4e2b-a73b-1008222d311c",
   "metadata": {},
   "outputs": [
    {
     "data": {
      "text/plain": [
       "1469"
      ]
     },
     "execution_count": 10,
     "metadata": {},
     "output_type": "execute_result"
    }
   ],
   "source": [
    "skip2 = skip1 + not_hot_1[\"ID\"].nunique() + 1\n",
    "skip2"
   ]
  },
  {
   "cell_type": "code",
   "execution_count": 11,
   "id": "634c5609-0355-47a1-b3f5-f88d29a046fe",
   "metadata": {},
   "outputs": [
    {
     "name": "stdout",
     "output_type": "stream",
     "text": [
      "Page 1\n",
      "Sleeping for 2 seconds\n",
      "Page 2\n",
      "Sleeping for 2 seconds\n",
      "Page 3\n",
      "Sleeping for 2 seconds\n",
      "Page 4\n",
      "Sleeping for 2 seconds\n",
      "Page 5\n",
      "Sleeping for 2 seconds\n",
      "Page 6\n",
      "Sleeping for 2 seconds\n",
      "Page 7\n",
      "Sleeping for 2 seconds\n",
      "Page 8\n",
      "Sleeping for 2 seconds\n",
      "Page 9\n",
      "Sleeping for 2 seconds\n",
      "Page 10\n",
      "Sleeping for 2 seconds\n"
     ]
    },
    {
     "data": {
      "text/plain": [
       "1000"
      ]
     },
     "execution_count": 11,
     "metadata": {},
     "output_type": "execute_result"
    }
   ],
   "source": [
    "not_hot_2 = analyze_playlist(\"acclaimed music\", \"1G8IpkZKobrIlXcVPoSIuf\", 10, skip2)\n",
    "not_hot_2[\"ID\"].nunique()"
   ]
  },
  {
   "cell_type": "code",
   "execution_count": 12,
   "id": "a79ffa6a-35b1-43fc-9225-c05f2dfb09a8",
   "metadata": {},
   "outputs": [
    {
     "data": {
      "text/plain": [
       "2470"
      ]
     },
     "execution_count": 12,
     "metadata": {},
     "output_type": "execute_result"
    }
   ],
   "source": [
    "skip3 = skip2 + not_hot_2[\"ID\"].nunique() + 1\n",
    "skip3"
   ]
  },
  {
   "cell_type": "code",
   "execution_count": 13,
   "id": "571fb5f5-dee4-4c75-a6e9-fa291651e163",
   "metadata": {},
   "outputs": [
    {
     "name": "stdout",
     "output_type": "stream",
     "text": [
      "Page 1\n",
      "Sleeping for 2 seconds\n",
      "Page 2\n"
     ]
    },
    {
     "data": {
      "text/plain": [
       "188"
      ]
     },
     "execution_count": 13,
     "metadata": {},
     "output_type": "execute_result"
    }
   ],
   "source": [
    "not_hot_3 = analyze_playlist(\"acclaimed music\", \"1G8IpkZKobrIlXcVPoSIuf\", 2, skip3)\n",
    "not_hot_3[\"ID\"].nunique()"
   ]
  },
  {
   "cell_type": "code",
   "execution_count": 14,
   "id": "321f2cba-d3e9-4c46-81d0-f12e836402d5",
   "metadata": {},
   "outputs": [
    {
     "data": {
      "text/plain": [
       "2659"
      ]
     },
     "execution_count": 14,
     "metadata": {},
     "output_type": "execute_result"
    }
   ],
   "source": [
    "skip4 = skip3 + not_hot_3[\"ID\"].nunique() + 1\n",
    "skip4"
   ]
  },
  {
   "cell_type": "code",
   "execution_count": 15,
   "id": "b669d553-3a62-40f0-b501-011e45c5d127",
   "metadata": {},
   "outputs": [
    {
     "name": "stdout",
     "output_type": "stream",
     "text": [
      "Page 1\n"
     ]
    },
    {
     "data": {
      "text/plain": [
       "12"
      ]
     },
     "execution_count": 15,
     "metadata": {},
     "output_type": "execute_result"
    }
   ],
   "source": [
    "not_hot_4 = analyze_playlist(\"acclaimed music\", \"1G8IpkZKobrIlXcVPoSIuf\", 1, skip4)\n",
    "not_hot_4[\"ID\"].nunique()"
   ]
  },
  {
   "cell_type": "code",
   "execution_count": 16,
   "id": "4251b6e1-8f39-42e6-8589-dff243e0d640",
   "metadata": {},
   "outputs": [
    {
     "data": {
      "text/plain": [
       "2672"
      ]
     },
     "execution_count": 16,
     "metadata": {},
     "output_type": "execute_result"
    }
   ],
   "source": [
    "skip5 = skip4 + not_hot_4[\"ID\"].nunique() + 1\n",
    "skip5"
   ]
  },
  {
   "cell_type": "code",
   "execution_count": 17,
   "id": "c63fa34a-09bd-412a-9b2c-bf4f7a9381b6",
   "metadata": {},
   "outputs": [
    {
     "name": "stdout",
     "output_type": "stream",
     "text": [
      "Page 1\n",
      "Sleeping for 2 seconds\n",
      "Page 2\n",
      "Sleeping for 2 seconds\n",
      "Page 3\n",
      "Sleeping for 2 seconds\n",
      "Page 4\n"
     ]
    },
    {
     "data": {
      "text/plain": [
       "307"
      ]
     },
     "execution_count": 17,
     "metadata": {},
     "output_type": "execute_result"
    }
   ],
   "source": [
    "not_hot_5 = analyze_playlist(\"acclaimed music\", \"1G8IpkZKobrIlXcVPoSIuf\", 4, skip5)\n",
    "not_hot_5[\"ID\"].nunique()"
   ]
  },
  {
   "cell_type": "code",
   "execution_count": 18,
   "id": "e3532920-8aaf-4623-8275-125a83b01886",
   "metadata": {},
   "outputs": [
    {
     "data": {
      "text/plain": [
       "2980"
      ]
     },
     "execution_count": 18,
     "metadata": {},
     "output_type": "execute_result"
    }
   ],
   "source": [
    "skip6 = skip5 + not_hot_5[\"ID\"].nunique() + 1\n",
    "skip6"
   ]
  },
  {
   "cell_type": "code",
   "execution_count": 19,
   "id": "cda75c7f-c697-4cc7-b992-de7855d27961",
   "metadata": {},
   "outputs": [
    {
     "name": "stdout",
     "output_type": "stream",
     "text": [
      "Page 1\n",
      "Sleeping for 2 seconds\n",
      "Page 2\n",
      "Sleeping for 2 seconds\n",
      "Page 3\n",
      "Sleeping for 2 seconds\n",
      "Page 4\n",
      "Sleeping for 2 seconds\n",
      "Page 5\n"
     ]
    },
    {
     "data": {
      "text/plain": [
       "407"
      ]
     },
     "execution_count": 19,
     "metadata": {},
     "output_type": "execute_result"
    }
   ],
   "source": [
    "not_hot_6 = analyze_playlist(\"acclaimed music\", \"1G8IpkZKobrIlXcVPoSIuf\", 5, skip6)\n",
    "not_hot_6[\"ID\"].nunique()"
   ]
  },
  {
   "cell_type": "code",
   "execution_count": 20,
   "id": "c1f6de42-3ce3-4558-b6c8-defbb47fd22e",
   "metadata": {},
   "outputs": [
    {
     "data": {
      "text/plain": [
       "3388"
      ]
     },
     "execution_count": 20,
     "metadata": {},
     "output_type": "execute_result"
    }
   ],
   "source": [
    "skip7 = skip6 + not_hot_6[\"ID\"].nunique() + 1\n",
    "skip7"
   ]
  },
  {
   "cell_type": "code",
   "execution_count": 21,
   "id": "f90fd1f2-8686-4c7f-923c-471f20dbc9cc",
   "metadata": {},
   "outputs": [
    {
     "name": "stdout",
     "output_type": "stream",
     "text": [
      "Page 1\n"
     ]
    },
    {
     "data": {
      "text/plain": [
       "82"
      ]
     },
     "execution_count": 21,
     "metadata": {},
     "output_type": "execute_result"
    }
   ],
   "source": [
    "not_hot_7 = analyze_playlist(\"acclaimed music\", \"1G8IpkZKobrIlXcVPoSIuf\", 1, skip7)\n",
    "not_hot_7[\"ID\"].nunique()"
   ]
  },
  {
   "cell_type": "code",
   "execution_count": 22,
   "id": "0fb9c21b-bf92-4da0-a3a6-b447f20abadb",
   "metadata": {},
   "outputs": [
    {
     "data": {
      "text/plain": [
       "3471"
      ]
     },
     "execution_count": 22,
     "metadata": {},
     "output_type": "execute_result"
    }
   ],
   "source": [
    "skip8 = skip7 + not_hot_7[\"ID\"].nunique() + 1\n",
    "skip8"
   ]
  },
  {
   "cell_type": "code",
   "execution_count": 23,
   "id": "eb34fbd0-bd7c-4bdd-857c-c08e5ea8180a",
   "metadata": {},
   "outputs": [
    {
     "name": "stdout",
     "output_type": "stream",
     "text": [
      "Page 1\n",
      "Sleeping for 1 seconds\n",
      "Page 2\n"
     ]
    },
    {
     "data": {
      "text/plain": [
       "169"
      ]
     },
     "execution_count": 23,
     "metadata": {},
     "output_type": "execute_result"
    }
   ],
   "source": [
    "not_hot_8 = analyze_playlist(\"acclaimed music\", \"1G8IpkZKobrIlXcVPoSIuf\", 2, skip8)\n",
    "not_hot_8[\"ID\"].nunique()"
   ]
  },
  {
   "cell_type": "code",
   "execution_count": 24,
   "id": "2d449d3a-0c5c-4128-b355-bcfc795f0d95",
   "metadata": {},
   "outputs": [
    {
     "data": {
      "text/plain": [
       "3641"
      ]
     },
     "execution_count": 24,
     "metadata": {},
     "output_type": "execute_result"
    }
   ],
   "source": [
    "skip9 = skip8 + not_hot_8[\"ID\"].nunique() + 1\n",
    "skip9"
   ]
  },
  {
   "cell_type": "code",
   "execution_count": 25,
   "id": "c79c7ef3-6f92-48d5-9e67-e99225dc1e25",
   "metadata": {},
   "outputs": [
    {
     "name": "stdout",
     "output_type": "stream",
     "text": [
      "Page 1\n"
     ]
    },
    {
     "data": {
      "text/plain": [
       "43"
      ]
     },
     "execution_count": 25,
     "metadata": {},
     "output_type": "execute_result"
    }
   ],
   "source": [
    "not_hot_9 = analyze_playlist(\"acclaimed music\", \"1G8IpkZKobrIlXcVPoSIuf\", 1, skip9)\n",
    "not_hot_9[\"ID\"].nunique()"
   ]
  },
  {
   "cell_type": "markdown",
   "id": "6fe46228-c2db-4834-abc3-53393f7fa878",
   "metadata": {},
   "source": [
    "### Concat and save"
   ]
  },
  {
   "cell_type": "code",
   "execution_count": 26,
   "id": "708013cc-7848-4164-a455-3187e63c78bc",
   "metadata": {},
   "outputs": [
    {
     "data": {
      "text/html": [
       "<div>\n",
       "<style scoped>\n",
       "    .dataframe tbody tr th:only-of-type {\n",
       "        vertical-align: middle;\n",
       "    }\n",
       "\n",
       "    .dataframe tbody tr th {\n",
       "        vertical-align: top;\n",
       "    }\n",
       "\n",
       "    .dataframe thead th {\n",
       "        text-align: right;\n",
       "    }\n",
       "</style>\n",
       "<table border=\"1\" class=\"dataframe\">\n",
       "  <thead>\n",
       "    <tr style=\"text-align: right;\">\n",
       "      <th></th>\n",
       "      <th>Song</th>\n",
       "      <th>Artist</th>\n",
       "      <th>ID</th>\n",
       "      <th>Link</th>\n",
       "      <th>Danceability</th>\n",
       "      <th>Energy</th>\n",
       "      <th>Key</th>\n",
       "      <th>Loudness</th>\n",
       "      <th>Mode</th>\n",
       "      <th>Speechiness</th>\n",
       "      <th>Instrumentalness</th>\n",
       "      <th>Liveness</th>\n",
       "      <th>Valence</th>\n",
       "      <th>Tempo</th>\n",
       "      <th>Duration</th>\n",
       "      <th>Time Signature</th>\n",
       "    </tr>\n",
       "  </thead>\n",
       "  <tbody>\n",
       "    <tr>\n",
       "      <th>0</th>\n",
       "      <td>Like a Rolling Stone</td>\n",
       "      <td>Bob Dylan</td>\n",
       "      <td>3AhXZa8sUQht0UEdBJgpGc</td>\n",
       "      <td>https://open.spotify.com/track/3AhXZa8sUQht0UE...</td>\n",
       "      <td>0.482</td>\n",
       "      <td>0.721</td>\n",
       "      <td>0</td>\n",
       "      <td>-6.839</td>\n",
       "      <td>1</td>\n",
       "      <td>0.0321</td>\n",
       "      <td>0</td>\n",
       "      <td>0.1890</td>\n",
       "      <td>0.557</td>\n",
       "      <td>95.263</td>\n",
       "      <td>369600</td>\n",
       "      <td>4</td>\n",
       "    </tr>\n",
       "    <tr>\n",
       "      <th>1</th>\n",
       "      <td>Smells Like Teen Spirit</td>\n",
       "      <td>Nirvana</td>\n",
       "      <td>3oTlkzk1OtrhH8wBAduVEi</td>\n",
       "      <td>https://open.spotify.com/track/3oTlkzk1OtrhH8w...</td>\n",
       "      <td>0.485</td>\n",
       "      <td>0.863</td>\n",
       "      <td>1</td>\n",
       "      <td>-9.027</td>\n",
       "      <td>1</td>\n",
       "      <td>0.0495</td>\n",
       "      <td>0.0162</td>\n",
       "      <td>0.1380</td>\n",
       "      <td>0.767</td>\n",
       "      <td>116.835</td>\n",
       "      <td>300977</td>\n",
       "      <td>4</td>\n",
       "    </tr>\n",
       "    <tr>\n",
       "      <th>2</th>\n",
       "      <td>A Day In The Life - Remastered</td>\n",
       "      <td>The Beatles</td>\n",
       "      <td>3ZFBeIyP41HhnALjxWy1pR</td>\n",
       "      <td>https://open.spotify.com/track/3ZFBeIyP41HhnAL...</td>\n",
       "      <td>0.364</td>\n",
       "      <td>0.457</td>\n",
       "      <td>4</td>\n",
       "      <td>-14.162</td>\n",
       "      <td>0</td>\n",
       "      <td>0.0675</td>\n",
       "      <td>0.000106</td>\n",
       "      <td>0.9220</td>\n",
       "      <td>0.175</td>\n",
       "      <td>163.219</td>\n",
       "      <td>337413</td>\n",
       "      <td>4</td>\n",
       "    </tr>\n",
       "    <tr>\n",
       "      <th>3</th>\n",
       "      <td>Good Vibrations (Mono)</td>\n",
       "      <td>The Beach Boys</td>\n",
       "      <td>5Qt4Cc66g24QWwGP3YYV9y</td>\n",
       "      <td>https://open.spotify.com/track/5Qt4Cc66g24QWwG...</td>\n",
       "      <td>0.398</td>\n",
       "      <td>0.413</td>\n",
       "      <td>1</td>\n",
       "      <td>-10.934</td>\n",
       "      <td>1</td>\n",
       "      <td>0.0388</td>\n",
       "      <td>0.000025</td>\n",
       "      <td>0.0891</td>\n",
       "      <td>0.331</td>\n",
       "      <td>133.574</td>\n",
       "      <td>219147</td>\n",
       "      <td>4</td>\n",
       "    </tr>\n",
       "    <tr>\n",
       "      <th>4</th>\n",
       "      <td>Johnny B Goode</td>\n",
       "      <td>Chuck Berry</td>\n",
       "      <td>7MH2ZclofPlTrZOkPzZKhK</td>\n",
       "      <td>https://open.spotify.com/track/7MH2ZclofPlTrZO...</td>\n",
       "      <td>0.518</td>\n",
       "      <td>0.756</td>\n",
       "      <td>10</td>\n",
       "      <td>-10.851</td>\n",
       "      <td>1</td>\n",
       "      <td>0.0915</td>\n",
       "      <td>0.000062</td>\n",
       "      <td>0.3170</td>\n",
       "      <td>0.968</td>\n",
       "      <td>166.429</td>\n",
       "      <td>160893</td>\n",
       "      <td>4</td>\n",
       "    </tr>\n",
       "    <tr>\n",
       "      <th>...</th>\n",
       "      <td>...</td>\n",
       "      <td>...</td>\n",
       "      <td>...</td>\n",
       "      <td>...</td>\n",
       "      <td>...</td>\n",
       "      <td>...</td>\n",
       "      <td>...</td>\n",
       "      <td>...</td>\n",
       "      <td>...</td>\n",
       "      <td>...</td>\n",
       "      <td>...</td>\n",
       "      <td>...</td>\n",
       "      <td>...</td>\n",
       "      <td>...</td>\n",
       "      <td>...</td>\n",
       "      <td>...</td>\n",
       "    </tr>\n",
       "    <tr>\n",
       "      <th>3670</th>\n",
       "      <td>I Don't Like</td>\n",
       "      <td>Chief Keef</td>\n",
       "      <td>1h6kgem1ai8vUgO1rZOwfB</td>\n",
       "      <td>https://open.spotify.com/track/1h6kgem1ai8vUgO...</td>\n",
       "      <td>0.742</td>\n",
       "      <td>0.844</td>\n",
       "      <td>2</td>\n",
       "      <td>-4.622</td>\n",
       "      <td>1</td>\n",
       "      <td>0.0479</td>\n",
       "      <td>0</td>\n",
       "      <td>0.0659</td>\n",
       "      <td>0.416</td>\n",
       "      <td>131.986</td>\n",
       "      <td>293840</td>\n",
       "      <td>4</td>\n",
       "    </tr>\n",
       "    <tr>\n",
       "      <th>3671</th>\n",
       "      <td>Happy - From \"Despicable Me 2\"</td>\n",
       "      <td>Pharrell Williams</td>\n",
       "      <td>5b88tNINg4Q4nrRbrCXUmg</td>\n",
       "      <td>https://open.spotify.com/track/5b88tNINg4Q4nrR...</td>\n",
       "      <td>0.647</td>\n",
       "      <td>0.822</td>\n",
       "      <td>5</td>\n",
       "      <td>-4.662</td>\n",
       "      <td>0</td>\n",
       "      <td>0.1830</td>\n",
       "      <td>0</td>\n",
       "      <td>0.0908</td>\n",
       "      <td>0.962</td>\n",
       "      <td>160.019</td>\n",
       "      <td>232720</td>\n",
       "      <td>4</td>\n",
       "    </tr>\n",
       "    <tr>\n",
       "      <th>3672</th>\n",
       "      <td>Express Yourself - Remastered Version</td>\n",
       "      <td>Charles Wright &amp; The Watts 103rd Street Rhythm...</td>\n",
       "      <td>6gQZKkphKIMxZgca5r7ImA</td>\n",
       "      <td>https://open.spotify.com/track/6gQZKkphKIMxZgc...</td>\n",
       "      <td>0.461</td>\n",
       "      <td>0.818</td>\n",
       "      <td>8</td>\n",
       "      <td>-8.482</td>\n",
       "      <td>1</td>\n",
       "      <td>0.1250</td>\n",
       "      <td>0</td>\n",
       "      <td>0.2660</td>\n",
       "      <td>0.721</td>\n",
       "      <td>92.305</td>\n",
       "      <td>229653</td>\n",
       "      <td>4</td>\n",
       "    </tr>\n",
       "    <tr>\n",
       "      <th>3673</th>\n",
       "      <td>Call Me The Breeze</td>\n",
       "      <td>J.J. Cale</td>\n",
       "      <td>0D4JiHE8NkSQa5ZdZkYYLw</td>\n",
       "      <td>https://open.spotify.com/track/0D4JiHE8NkSQa5Z...</td>\n",
       "      <td>0.815</td>\n",
       "      <td>0.415</td>\n",
       "      <td>11</td>\n",
       "      <td>-15.573</td>\n",
       "      <td>1</td>\n",
       "      <td>0.0384</td>\n",
       "      <td>0.012</td>\n",
       "      <td>0.0943</td>\n",
       "      <td>0.817</td>\n",
       "      <td>91.539</td>\n",
       "      <td>157617</td>\n",
       "      <td>4</td>\n",
       "    </tr>\n",
       "    <tr>\n",
       "      <th>3674</th>\n",
       "      <td>People Who Died</td>\n",
       "      <td>The Jim Carroll Band</td>\n",
       "      <td>6taFIgW5YE94x1icBh5vTg</td>\n",
       "      <td>https://open.spotify.com/track/6taFIgW5YE94x1i...</td>\n",
       "      <td>0.315</td>\n",
       "      <td>0.635</td>\n",
       "      <td>5</td>\n",
       "      <td>-11.883</td>\n",
       "      <td>0</td>\n",
       "      <td>0.0681</td>\n",
       "      <td>0.000244</td>\n",
       "      <td>0.1280</td>\n",
       "      <td>0.933</td>\n",
       "      <td>190.508</td>\n",
       "      <td>298613</td>\n",
       "      <td>4</td>\n",
       "    </tr>\n",
       "  </tbody>\n",
       "</table>\n",
       "<p>3675 rows × 16 columns</p>\n",
       "</div>"
      ],
      "text/plain": [
       "                                       Song  \\\n",
       "0                      Like a Rolling Stone   \n",
       "1                   Smells Like Teen Spirit   \n",
       "2            A Day In The Life - Remastered   \n",
       "3                    Good Vibrations (Mono)   \n",
       "4                            Johnny B Goode   \n",
       "...                                     ...   \n",
       "3670                           I Don't Like   \n",
       "3671         Happy - From \"Despicable Me 2\"   \n",
       "3672  Express Yourself - Remastered Version   \n",
       "3673                     Call Me The Breeze   \n",
       "3674                        People Who Died   \n",
       "\n",
       "                                                 Artist  \\\n",
       "0                                             Bob Dylan   \n",
       "1                                               Nirvana   \n",
       "2                                           The Beatles   \n",
       "3                                        The Beach Boys   \n",
       "4                                           Chuck Berry   \n",
       "...                                                 ...   \n",
       "3670                                         Chief Keef   \n",
       "3671                                  Pharrell Williams   \n",
       "3672  Charles Wright & The Watts 103rd Street Rhythm...   \n",
       "3673                                          J.J. Cale   \n",
       "3674                               The Jim Carroll Band   \n",
       "\n",
       "                          ID  \\\n",
       "0     3AhXZa8sUQht0UEdBJgpGc   \n",
       "1     3oTlkzk1OtrhH8wBAduVEi   \n",
       "2     3ZFBeIyP41HhnALjxWy1pR   \n",
       "3     5Qt4Cc66g24QWwGP3YYV9y   \n",
       "4     7MH2ZclofPlTrZOkPzZKhK   \n",
       "...                      ...   \n",
       "3670  1h6kgem1ai8vUgO1rZOwfB   \n",
       "3671  5b88tNINg4Q4nrRbrCXUmg   \n",
       "3672  6gQZKkphKIMxZgca5r7ImA   \n",
       "3673  0D4JiHE8NkSQa5ZdZkYYLw   \n",
       "3674  6taFIgW5YE94x1icBh5vTg   \n",
       "\n",
       "                                                   Link  Danceability  Energy  \\\n",
       "0     https://open.spotify.com/track/3AhXZa8sUQht0UE...         0.482   0.721   \n",
       "1     https://open.spotify.com/track/3oTlkzk1OtrhH8w...         0.485   0.863   \n",
       "2     https://open.spotify.com/track/3ZFBeIyP41HhnAL...         0.364   0.457   \n",
       "3     https://open.spotify.com/track/5Qt4Cc66g24QWwG...         0.398   0.413   \n",
       "4     https://open.spotify.com/track/7MH2ZclofPlTrZO...         0.518   0.756   \n",
       "...                                                 ...           ...     ...   \n",
       "3670  https://open.spotify.com/track/1h6kgem1ai8vUgO...         0.742   0.844   \n",
       "3671  https://open.spotify.com/track/5b88tNINg4Q4nrR...         0.647   0.822   \n",
       "3672  https://open.spotify.com/track/6gQZKkphKIMxZgc...         0.461   0.818   \n",
       "3673  https://open.spotify.com/track/0D4JiHE8NkSQa5Z...         0.815   0.415   \n",
       "3674  https://open.spotify.com/track/6taFIgW5YE94x1i...         0.315   0.635   \n",
       "\n",
       "     Key  Loudness Mode  Speechiness Instrumentalness  Liveness  Valence  \\\n",
       "0      0    -6.839    1       0.0321                0    0.1890    0.557   \n",
       "1      1    -9.027    1       0.0495           0.0162    0.1380    0.767   \n",
       "2      4   -14.162    0       0.0675         0.000106    0.9220    0.175   \n",
       "3      1   -10.934    1       0.0388         0.000025    0.0891    0.331   \n",
       "4     10   -10.851    1       0.0915         0.000062    0.3170    0.968   \n",
       "...   ..       ...  ...          ...              ...       ...      ...   \n",
       "3670   2    -4.622    1       0.0479                0    0.0659    0.416   \n",
       "3671   5    -4.662    0       0.1830                0    0.0908    0.962   \n",
       "3672   8    -8.482    1       0.1250                0    0.2660    0.721   \n",
       "3673  11   -15.573    1       0.0384            0.012    0.0943    0.817   \n",
       "3674   5   -11.883    0       0.0681         0.000244    0.1280    0.933   \n",
       "\n",
       "        Tempo Duration Time Signature  \n",
       "0      95.263   369600              4  \n",
       "1     116.835   300977              4  \n",
       "2     163.219   337413              4  \n",
       "3     133.574   219147              4  \n",
       "4     166.429   160893              4  \n",
       "...       ...      ...            ...  \n",
       "3670  131.986   293840              4  \n",
       "3671  160.019   232720              4  \n",
       "3672   92.305   229653              4  \n",
       "3673   91.539   157617              4  \n",
       "3674  190.508   298613              4  \n",
       "\n",
       "[3675 rows x 16 columns]"
      ]
     },
     "execution_count": 26,
     "metadata": {},
     "output_type": "execute_result"
    }
   ],
   "source": [
    "not_hot = pd.concat([not_hot_0, not_hot_1, not_hot_2, not_hot_3, not_hot_4, not_hot_5, not_hot_6, not_hot_7, not_hot_8, not_hot_9]).reset_index(drop=True)\n",
    "not_hot"
   ]
  },
  {
   "cell_type": "code",
   "execution_count": 27,
   "id": "3b0f045f-8555-45a8-87f3-26da3c21aeea",
   "metadata": {},
   "outputs": [
    {
     "data": {
      "text/plain": [
       "3675"
      ]
     },
     "execution_count": 27,
     "metadata": {},
     "output_type": "execute_result"
    }
   ],
   "source": [
    "not_hot[\"ID\"].nunique()"
   ]
  },
  {
   "cell_type": "code",
   "execution_count": 28,
   "id": "55b75144-d3f8-42d1-a892-6341c49f214d",
   "metadata": {},
   "outputs": [],
   "source": [
    "not_hot.to_csv(\"Not_Hot.csv\")"
   ]
  },
  {
   "cell_type": "code",
   "execution_count": null,
   "id": "046aece7-f6c0-49ef-9a34-34009564dcc6",
   "metadata": {},
   "outputs": [],
   "source": []
  }
 ],
 "metadata": {
  "kernelspec": {
   "display_name": "Python 3 (ipykernel)",
   "language": "python",
   "name": "python3"
  },
  "language_info": {
   "codemirror_mode": {
    "name": "ipython",
    "version": 3
   },
   "file_extension": ".py",
   "mimetype": "text/x-python",
   "name": "python",
   "nbconvert_exporter": "python",
   "pygments_lexer": "ipython3",
   "version": "3.9.7"
  }
 },
 "nbformat": 4,
 "nbformat_minor": 5
}
